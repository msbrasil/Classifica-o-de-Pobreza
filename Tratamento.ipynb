{
 "cells": [
  {
   "cell_type": "markdown",
   "metadata": {},
   "source": [
    "### Tratamento dos microdados da PNAD Contínua 2019 (Pesquisa complementara)"
   ]
  },
  {
   "attachments": {},
   "cell_type": "markdown",
   "metadata": {},
   "source": [
    "Pacotes"
   ]
  },
  {
   "cell_type": "code",
   "execution_count": 1,
   "metadata": {},
   "outputs": [],
   "source": [
    "import pandas as pd"
   ]
  },
  {
   "cell_type": "markdown",
   "metadata": {},
   "source": [
    "Dados"
   ]
  },
  {
   "cell_type": "code",
   "execution_count": 2,
   "metadata": {},
   "outputs": [],
   "source": [
    "pnad = pd.read_feather('dados/2019_4.feather')"
   ]
  },
  {
   "cell_type": "code",
   "execution_count": 5,
   "metadata": {},
   "outputs": [
    {
     "data": {
      "text/html": [
       "<div>\n",
       "<style scoped>\n",
       "    .dataframe tbody tr th:only-of-type {\n",
       "        vertical-align: middle;\n",
       "    }\n",
       "\n",
       "    .dataframe tbody tr th {\n",
       "        vertical-align: top;\n",
       "    }\n",
       "\n",
       "    .dataframe thead th {\n",
       "        text-align: right;\n",
       "    }\n",
       "</style>\n",
       "<table border=\"1\" class=\"dataframe\">\n",
       "  <thead>\n",
       "    <tr style=\"text-align: right;\">\n",
       "      <th></th>\n",
       "      <th>Ano</th>\n",
       "      <th>Trimestre</th>\n",
       "      <th>UF</th>\n",
       "      <th>Capital</th>\n",
       "      <th>RM_RIDE</th>\n",
       "      <th>UPA</th>\n",
       "      <th>Estrato</th>\n",
       "      <th>V1008</th>\n",
       "      <th>V1014</th>\n",
       "      <th>V1016</th>\n",
       "      <th>...</th>\n",
       "      <th>V1028194</th>\n",
       "      <th>V1028195</th>\n",
       "      <th>V1028196</th>\n",
       "      <th>V1028197</th>\n",
       "      <th>V1028198</th>\n",
       "      <th>V1028199</th>\n",
       "      <th>V1028200</th>\n",
       "      <th>ID_DOMICILIO</th>\n",
       "      <th>Habitual</th>\n",
       "      <th>Efetivo</th>\n",
       "    </tr>\n",
       "  </thead>\n",
       "  <tbody>\n",
       "    <tr>\n",
       "      <th>0</th>\n",
       "      <td>2019</td>\n",
       "      <td>4</td>\n",
       "      <td>Rondônia</td>\n",
       "      <td>Município de Porto Velho (RO)</td>\n",
       "      <td>None</td>\n",
       "      <td>110000016</td>\n",
       "      <td>1110011</td>\n",
       "      <td>1</td>\n",
       "      <td>7</td>\n",
       "      <td>4</td>\n",
       "      <td>...</td>\n",
       "      <td>290.582231</td>\n",
       "      <td>400.77492</td>\n",
       "      <td>0.0</td>\n",
       "      <td>526.415597</td>\n",
       "      <td>154.742814</td>\n",
       "      <td>147.004631</td>\n",
       "      <td>289.72049</td>\n",
       "      <td>1100000160107</td>\n",
       "      <td>1.20567</td>\n",
       "      <td>1.216855</td>\n",
       "    </tr>\n",
       "    <tr>\n",
       "      <th>1</th>\n",
       "      <td>2019</td>\n",
       "      <td>4</td>\n",
       "      <td>Rondônia</td>\n",
       "      <td>Município de Porto Velho (RO)</td>\n",
       "      <td>None</td>\n",
       "      <td>110000016</td>\n",
       "      <td>1110011</td>\n",
       "      <td>1</td>\n",
       "      <td>7</td>\n",
       "      <td>4</td>\n",
       "      <td>...</td>\n",
       "      <td>290.582231</td>\n",
       "      <td>400.77492</td>\n",
       "      <td>0.0</td>\n",
       "      <td>526.415597</td>\n",
       "      <td>154.742814</td>\n",
       "      <td>147.004631</td>\n",
       "      <td>289.72049</td>\n",
       "      <td>1100000160107</td>\n",
       "      <td>1.20567</td>\n",
       "      <td>1.216855</td>\n",
       "    </tr>\n",
       "  </tbody>\n",
       "</table>\n",
       "<p>2 rows × 423 columns</p>\n",
       "</div>"
      ],
      "text/plain": [
       "    Ano  Trimestre        UF                        Capital RM_RIDE  \\\n",
       "0  2019          4  Rondônia  Município de Porto Velho (RO)    None   \n",
       "1  2019          4  Rondônia  Município de Porto Velho (RO)    None   \n",
       "\n",
       "         UPA  Estrato  V1008  V1014  V1016  ...    V1028194   V1028195  \\\n",
       "0  110000016  1110011      1      7      4  ...  290.582231  400.77492   \n",
       "1  110000016  1110011      1      7      4  ...  290.582231  400.77492   \n",
       "\n",
       "   V1028196    V1028197    V1028198    V1028199   V1028200   ID_DOMICILIO  \\\n",
       "0       0.0  526.415597  154.742814  147.004631  289.72049  1100000160107   \n",
       "1       0.0  526.415597  154.742814  147.004631  289.72049  1100000160107   \n",
       "\n",
       "   Habitual   Efetivo  \n",
       "0   1.20567  1.216855  \n",
       "1   1.20567  1.216855  \n",
       "\n",
       "[2 rows x 423 columns]"
      ]
     },
     "execution_count": 5,
     "metadata": {},
     "output_type": "execute_result"
    }
   ],
   "source": [
    "pnad.head(2)"
   ]
  },
  {
   "cell_type": "markdown",
   "metadata": {},
   "source": [
    "#### Tratamento"
   ]
  },
  {
   "cell_type": "code",
   "execution_count": 4,
   "metadata": {},
   "outputs": [],
   "source": [
    "#Removendo coluna \"Unnamed: 0\"\n",
    "pnad.drop(columns=['Unnamed: 0'], inplace=True)"
   ]
  },
  {
   "cell_type": "code",
   "execution_count": 6,
   "metadata": {},
   "outputs": [
    {
     "data": {
      "text/html": [
       "<div>\n",
       "<style scoped>\n",
       "    .dataframe tbody tr th:only-of-type {\n",
       "        vertical-align: middle;\n",
       "    }\n",
       "\n",
       "    .dataframe tbody tr th {\n",
       "        vertical-align: top;\n",
       "    }\n",
       "\n",
       "    .dataframe thead th {\n",
       "        text-align: right;\n",
       "    }\n",
       "</style>\n",
       "<table border=\"1\" class=\"dataframe\">\n",
       "  <thead>\n",
       "    <tr style=\"text-align: right;\">\n",
       "      <th></th>\n",
       "      <th>Ano</th>\n",
       "      <th>Trimestre</th>\n",
       "      <th>UF</th>\n",
       "      <th>Capital</th>\n",
       "      <th>RM_RIDE</th>\n",
       "      <th>UPA</th>\n",
       "      <th>Estrato</th>\n",
       "      <th>V1008</th>\n",
       "      <th>V1014</th>\n",
       "      <th>V1016</th>\n",
       "      <th>...</th>\n",
       "      <th>V1028194</th>\n",
       "      <th>V1028195</th>\n",
       "      <th>V1028196</th>\n",
       "      <th>V1028197</th>\n",
       "      <th>V1028198</th>\n",
       "      <th>V1028199</th>\n",
       "      <th>V1028200</th>\n",
       "      <th>ID_DOMICILIO</th>\n",
       "      <th>Habitual</th>\n",
       "      <th>Efetivo</th>\n",
       "    </tr>\n",
       "  </thead>\n",
       "  <tbody>\n",
       "    <tr>\n",
       "      <th>0</th>\n",
       "      <td>2019</td>\n",
       "      <td>4</td>\n",
       "      <td>Rondônia</td>\n",
       "      <td>Município de Porto Velho (RO)</td>\n",
       "      <td>None</td>\n",
       "      <td>110000016</td>\n",
       "      <td>1110011</td>\n",
       "      <td>1</td>\n",
       "      <td>7</td>\n",
       "      <td>4</td>\n",
       "      <td>...</td>\n",
       "      <td>290.582231</td>\n",
       "      <td>400.77492</td>\n",
       "      <td>0.0</td>\n",
       "      <td>526.415597</td>\n",
       "      <td>154.742814</td>\n",
       "      <td>147.004631</td>\n",
       "      <td>289.72049</td>\n",
       "      <td>1100000160107</td>\n",
       "      <td>1.20567</td>\n",
       "      <td>1.216855</td>\n",
       "    </tr>\n",
       "    <tr>\n",
       "      <th>1</th>\n",
       "      <td>2019</td>\n",
       "      <td>4</td>\n",
       "      <td>Rondônia</td>\n",
       "      <td>Município de Porto Velho (RO)</td>\n",
       "      <td>None</td>\n",
       "      <td>110000016</td>\n",
       "      <td>1110011</td>\n",
       "      <td>1</td>\n",
       "      <td>7</td>\n",
       "      <td>4</td>\n",
       "      <td>...</td>\n",
       "      <td>290.582231</td>\n",
       "      <td>400.77492</td>\n",
       "      <td>0.0</td>\n",
       "      <td>526.415597</td>\n",
       "      <td>154.742814</td>\n",
       "      <td>147.004631</td>\n",
       "      <td>289.72049</td>\n",
       "      <td>1100000160107</td>\n",
       "      <td>1.20567</td>\n",
       "      <td>1.216855</td>\n",
       "    </tr>\n",
       "  </tbody>\n",
       "</table>\n",
       "<p>2 rows × 423 columns</p>\n",
       "</div>"
      ],
      "text/plain": [
       "    Ano  Trimestre        UF                        Capital RM_RIDE  \\\n",
       "0  2019          4  Rondônia  Município de Porto Velho (RO)    None   \n",
       "1  2019          4  Rondônia  Município de Porto Velho (RO)    None   \n",
       "\n",
       "         UPA  Estrato  V1008  V1014  V1016  ...    V1028194   V1028195  \\\n",
       "0  110000016  1110011      1      7      4  ...  290.582231  400.77492   \n",
       "1  110000016  1110011      1      7      4  ...  290.582231  400.77492   \n",
       "\n",
       "   V1028196    V1028197    V1028198    V1028199   V1028200   ID_DOMICILIO  \\\n",
       "0       0.0  526.415597  154.742814  147.004631  289.72049  1100000160107   \n",
       "1       0.0  526.415597  154.742814  147.004631  289.72049  1100000160107   \n",
       "\n",
       "   Habitual   Efetivo  \n",
       "0   1.20567  1.216855  \n",
       "1   1.20567  1.216855  \n",
       "\n",
       "[2 rows x 423 columns]"
      ]
     },
     "execution_count": 6,
     "metadata": {},
     "output_type": "execute_result"
    }
   ],
   "source": [
    "pnad.head(2)"
   ]
  },
  {
   "cell_type": "code",
   "execution_count": 7,
   "metadata": {},
   "outputs": [
    {
     "data": {
      "text/plain": [
       "(542802, 423)"
      ]
     },
     "execution_count": 7,
     "metadata": {},
     "output_type": "execute_result"
    }
   ],
   "source": [
    "pnad.shape"
   ]
  },
  {
   "attachments": {},
   "cell_type": "markdown",
   "metadata": {},
   "source": [
    "**Variáveis preditoras**\n",
    "\n",
    "Características do chefe de domicílio/ família:\n",
    "- Sexo; (dummy: 0 masculino, 1 feminino)\n",
    "- Idade; (discreta)\n",
    "- Presença de conjuge; (dummy: 0 não, 1 sim)\n",
    "- Cor ou raça; (dummy: 1 branco ou amarelo, 0 negro pardo ou indígena)\n",
    "- Nível de educação; (conjunto de dummies)\n",
    "- Situação de ocupação; (dummy: inativo, ativo ocupado, ativo desocupado)\n",
    "- Chefe de domicílio recebe aposentadoria. (dummy: 0 não, 1 sim)\n",
    "\n",
    "Características do domicílio/ família:\n",
    "- Localização em área urbana ou rural. Variável dummy: urbana (0) ou rural (1).\n",
    "- Número de pessoas residentes.\n",
    "- Número de crianças (com idade menor ou igual a 14 anos) residentes.\n",
    "- Número de adultos residentes.\n",
    "- Número de cômodos.\n",
    "- Abastecimento de água adequado. Variável dummy: não (0) ou sim (1). Foi considerado adequado o abastecimento de água por rede geral ou poço profundo sendo canalizada para pelo menos um cômodo do domicílio.\n",
    "- Banheiro exclusivo do domicílio. Variável dummy: não (0) ou sim (1).\n",
    "- Esgotamento sanitário adequado. Variável dummy: não (0) ou sim (1). Foi considerado adequado o\n",
    "- esgotamento sanitário com coleta por rede geral em área urbana ou fossa séptica em áreas rurais.\n",
    "- Paredes adequadas. Variável dummy: não (0) ou sim (1). Foram consideradas adequadas as paredes externas em alvenaria, de madeira adequada ou de taipa com revestimento.\n",
    "- Tipo da residência: casa ou apartamento. Variável dummy: urbana (0) ou rural (1).\n",
    "- Propriedade do domicílio: próprio quitado, próprio não pago, alugado, cedido ou outro. Conjunto de dummies.\n",
    "- Posse de aparelho de televisão. Variável dummy: não (0) ou sim (1).\n",
    "- Posse de refrigerador. Variável dummy: não (0) ou sim (1).\n",
    "- Posse de máquina de lavar roupas. Variável dummy: não (0) ou sim (1).\n",
    "- Posse de computador. Variável dummy: não (0) ou sim (1).\n",
    "- Posse de telefone celular/smartfone. Foi contabilizada de forma relativa como nº de aparelhos/ residentes.\n",
    "- Acesso à internet. Variável dummy: não (0) ou sim (1).\n",
    "- Posse de automóvel. Variável dummy: não (0) ou sim (1).\n",
    "- Posse de motocicleta. Variável dummy: não (0) ou sim (1)"
   ]
  },
  {
   "cell_type": "code",
   "execution_count": null,
   "metadata": {},
   "outputs": [],
   "source": [
    "#seleção de variáveis preditoras na base\n",
    "filtro = [\n",
    "    \n",
    "]"
   ]
  }
 ],
 "metadata": {
  "kernelspec": {
   "display_name": "econometria",
   "language": "python",
   "name": "python3"
  },
  "language_info": {
   "codemirror_mode": {
    "name": "ipython",
    "version": 3
   },
   "file_extension": ".py",
   "mimetype": "text/x-python",
   "name": "python",
   "nbconvert_exporter": "python",
   "pygments_lexer": "ipython3",
   "version": "3.9.12"
  },
  "orig_nbformat": 4
 },
 "nbformat": 4,
 "nbformat_minor": 2
}
