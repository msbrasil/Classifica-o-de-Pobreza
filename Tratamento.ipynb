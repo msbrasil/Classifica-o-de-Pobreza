{
 "cells": [
  {
   "cell_type": "markdown",
   "metadata": {},
   "source": [
    "### Tratamento dos microdados da PNAD Contínua 2019 (Pesquisa complementara)"
   ]
  },
  {
   "attachments": {},
   "cell_type": "markdown",
   "metadata": {},
   "source": [
    "Pacotes"
   ]
  },
  {
   "cell_type": "code",
   "execution_count": 1,
   "metadata": {},
   "outputs": [],
   "source": [
    "import pandas as pd"
   ]
  },
  {
   "cell_type": "markdown",
   "metadata": {},
   "source": [
    "Dados"
   ]
  },
  {
   "cell_type": "code",
   "execution_count": 2,
   "metadata": {},
   "outputs": [],
   "source": [
    "pnad = pd.read_feather('dados/2019_4.feather')"
   ]
  },
  {
   "cell_type": "code",
   "execution_count": 3,
   "metadata": {},
   "outputs": [
    {
     "data": {
      "text/html": [
       "<div>\n",
       "<style scoped>\n",
       "    .dataframe tbody tr th:only-of-type {\n",
       "        vertical-align: middle;\n",
       "    }\n",
       "\n",
       "    .dataframe tbody tr th {\n",
       "        vertical-align: top;\n",
       "    }\n",
       "\n",
       "    .dataframe thead th {\n",
       "        text-align: right;\n",
       "    }\n",
       "</style>\n",
       "<table border=\"1\" class=\"dataframe\">\n",
       "  <thead>\n",
       "    <tr style=\"text-align: right;\">\n",
       "      <th></th>\n",
       "      <th>Ano</th>\n",
       "      <th>Trimestre</th>\n",
       "      <th>UF</th>\n",
       "      <th>Capital</th>\n",
       "      <th>RM_RIDE</th>\n",
       "      <th>UPA</th>\n",
       "      <th>Estrato</th>\n",
       "      <th>V1008</th>\n",
       "      <th>V1014</th>\n",
       "      <th>V1022</th>\n",
       "      <th>...</th>\n",
       "      <th>V1032197</th>\n",
       "      <th>V1032198</th>\n",
       "      <th>V1032199</th>\n",
       "      <th>V1032200</th>\n",
       "      <th>ID_DOMICILIO</th>\n",
       "      <th>CO1</th>\n",
       "      <th>CO1e</th>\n",
       "      <th>CO2</th>\n",
       "      <th>CO2e</th>\n",
       "      <th>CO3</th>\n",
       "    </tr>\n",
       "  </thead>\n",
       "  <tbody>\n",
       "    <tr>\n",
       "      <th>0</th>\n",
       "      <td>2019</td>\n",
       "      <td>1</td>\n",
       "      <td>Rondônia</td>\n",
       "      <td>Município de Porto Velho (RO)</td>\n",
       "      <td>NaN</td>\n",
       "      <td>110000016</td>\n",
       "      <td>1110011</td>\n",
       "      <td>01</td>\n",
       "      <td>07</td>\n",
       "      <td>Urbana</td>\n",
       "      <td>...</td>\n",
       "      <td>0.0</td>\n",
       "      <td>161.124599</td>\n",
       "      <td>0.0</td>\n",
       "      <td>0.0</td>\n",
       "      <td>1100000160107</td>\n",
       "      <td>1.01385</td>\n",
       "      <td>1.019669</td>\n",
       "      <td>1.136946</td>\n",
       "      <td>1.143471</td>\n",
       "      <td>1.121414</td>\n",
       "    </tr>\n",
       "    <tr>\n",
       "      <th>1</th>\n",
       "      <td>2019</td>\n",
       "      <td>1</td>\n",
       "      <td>Rondônia</td>\n",
       "      <td>Município de Porto Velho (RO)</td>\n",
       "      <td>NaN</td>\n",
       "      <td>110000016</td>\n",
       "      <td>1110011</td>\n",
       "      <td>01</td>\n",
       "      <td>07</td>\n",
       "      <td>Urbana</td>\n",
       "      <td>...</td>\n",
       "      <td>0.0</td>\n",
       "      <td>161.124599</td>\n",
       "      <td>0.0</td>\n",
       "      <td>0.0</td>\n",
       "      <td>1100000160107</td>\n",
       "      <td>1.01385</td>\n",
       "      <td>1.019669</td>\n",
       "      <td>1.136946</td>\n",
       "      <td>1.143471</td>\n",
       "      <td>1.121414</td>\n",
       "    </tr>\n",
       "  </tbody>\n",
       "</table>\n",
       "<p>2 rows × 496 columns</p>\n",
       "</div>"
      ],
      "text/plain": [
       "    Ano Trimestre        UF                        Capital RM_RIDE        UPA  \\\n",
       "0  2019         1  Rondônia  Município de Porto Velho (RO)     NaN  110000016   \n",
       "1  2019         1  Rondônia  Município de Porto Velho (RO)     NaN  110000016   \n",
       "\n",
       "   Estrato V1008 V1014   V1022  ... V1032197    V1032198  V1032199  V1032200  \\\n",
       "0  1110011    01    07  Urbana  ...      0.0  161.124599       0.0       0.0   \n",
       "1  1110011    01    07  Urbana  ...      0.0  161.124599       0.0       0.0   \n",
       "\n",
       "    ID_DOMICILIO      CO1      CO1e       CO2      CO2e       CO3  \n",
       "0  1100000160107  1.01385  1.019669  1.136946  1.143471  1.121414  \n",
       "1  1100000160107  1.01385  1.019669  1.136946  1.143471  1.121414  \n",
       "\n",
       "[2 rows x 496 columns]"
      ]
     },
     "execution_count": 3,
     "metadata": {},
     "output_type": "execute_result"
    }
   ],
   "source": [
    "pnad.head(2)"
   ]
  },
  {
   "cell_type": "code",
   "execution_count": 6,
   "metadata": {},
   "outputs": [
    {
     "data": {
      "text/plain": [
       "(443790, 496)"
      ]
     },
     "execution_count": 6,
     "metadata": {},
     "output_type": "execute_result"
    }
   ],
   "source": [
    "pnad.shape"
   ]
  },
  {
   "cell_type": "markdown",
   "metadata": {},
   "source": [
    "#### Tratamento"
   ]
  },
  {
   "attachments": {},
   "cell_type": "markdown",
   "metadata": {},
   "source": [
    "**Variáveis preditoras**\n",
    "\n",
    "Características do chefe de domicílio/ família:\n",
    "- Sexo; (dummy: 0 masculino, 1 feminino)\n",
    "- Idade; (discreta)\n",
    "- Presença de conjuge; (dummy: 0 não, 1 sim)\n",
    "- Cor ou raça; (dummy: 1 branco ou amarelo, 0 negro pardo ou indígena)\n",
    "- Nível de educação; (conjunto de dummies)\n",
    "- Situação de ocupação; (dummy: inativo, ativo ocupado, ativo desocupado)\n",
    "- Chefe de domicílio recebe aposentadoria. (dummy: 0 não, 1 sim)\n",
    "\n",
    "Características do domicílio/ família:\n",
    "- Localização em área urbana ou rural. Variável dummy: urbana (0) ou rural (1).\n",
    "- Número de pessoas residentes.\n",
    "- Número de crianças (com idade menor ou igual a 14 anos) residentes.\n",
    "- Número de adultos residentes.\n",
    "- Número de cômodos.\n",
    "- Abastecimento de água adequado. Variável dummy: não (0) ou sim (1). Foi considerado adequado o abastecimento de água por rede geral ou poço profundo sendo canalizada para pelo menos um cômodo do domicílio.\n",
    "- Banheiro exclusivo do domicílio. Variável dummy: não (0) ou sim (1).\n",
    "- Esgotamento sanitário adequado. Variável dummy: não (0) ou sim (1). Foi considerado adequado o esgotamento sanitário com coleta por rede geral em área urbana ou fossa séptica em áreas rurais.\n",
    "- Paredes adequadas. Variável dummy: não (0) ou sim (1). Foram consideradas adequadas as paredes externas em alvenaria, de madeira adequada ou de taipa com revestimento.\n",
    "- Tipo da residência: casa ou apartamento. Variável dummy: urbana (0) ou rural (1).\n",
    "- Propriedade do domicílio: próprio quitado, próprio não pago, alugado, cedido ou outro. Conjunto de dummies.\n",
    "- Posse de aparelho de televisão. Variável dummy: não (0) ou sim (1).\n",
    "- Posse de refrigerador. Variável dummy: não (0) ou sim (1).\n",
    "- Posse de máquina de lavar roupas. Variável dummy: não (0) ou sim (1).\n",
    "- Posse de computador. Variável dummy: não (0) ou sim (1).\n",
    "- Posse de telefone celular/smartfone. Foi contabilizada de forma relativa como nº de aparelhos/ residentes.\n",
    "- Acesso à internet. Variável dummy: não (0) ou sim (1).\n",
    "- Posse de automóvel. Variável dummy: não (0) ou sim (1).\n",
    "- Posse de motocicleta. Variável dummy: não (0) ou sim (1)"
   ]
  },
  {
   "cell_type": "code",
   "execution_count": 8,
   "metadata": {},
   "outputs": [],
   "source": [
    "#seleção de variáveis preditoras na base\n",
    "filtro = [\n",
    "    'UF', #Estado\n",
    "    'V2007', #Sexo\n",
    "    'V2009', #Idade\n",
    "    'V2005', #Condição no domicílio (Presença de conjunge)\n",
    "    'V2010', #Cor ou raça\n",
    "    'VD3004', #Nível de instrução mais elevado alcançado\n",
    "    'VD4001', #Condição em relação à força de trabalho\n",
    "    'VD4002', #Condição de ocupação\n",
    "    'V5004A', #Recebe aposentadoria ou pensão\n",
    "    'V1022', #Localização em área urbana ou rural\n",
    "    'V2001', #Número de pessoas no domicílio\n",
    "    'VD2006', #Faixas etárias (Número de adultos e crianças)\n",
    "    'S01007', #Procial forma de abastecimento de água\n",
    "    'S01011A', #Banheiros de uso exclusivo dos moradores\n",
    "    'S01012A', #Destino do esgoto do banheiro (esgotamento sanitário adequado)\n",
    "    'S01002', #Material que preodmina nas paredes (Paredes adequadas)\n",
    "    'S01001', #Tipo de domicílio\n",
    "    'S01017', #Propriedade do domicílio\n",
    "    'S01025', #Domicílio possui televisão\n",
    "    'S01023', #Domicílio possui refrigerador\n",
    "    'S01024', #Domicílio possui lava-roupas\n",
    "    'S01028', #Domicílio possui computador\n",
    "    'S01021', #Domicílio possui telefone celular\n",
    "    'S01029', #Domicílio possui acesso a internet\n",
    "    'S01031', ##Domicílio possui automóvel\n",
    "    'S010312', #Domicílio possui motocicleta\n",
    "]"
   ]
  }
 ],
 "metadata": {
  "kernelspec": {
   "display_name": "econometria",
   "language": "python",
   "name": "python3"
  },
  "language_info": {
   "codemirror_mode": {
    "name": "ipython",
    "version": 3
   },
   "file_extension": ".py",
   "mimetype": "text/x-python",
   "name": "python",
   "nbconvert_exporter": "python",
   "pygments_lexer": "ipython3",
   "version": "3.10.4"
  },
  "orig_nbformat": 4
 },
 "nbformat": 4,
 "nbformat_minor": 2
}
